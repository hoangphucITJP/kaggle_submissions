{
 "cells": [
  {
   "cell_type": "code",
   "execution_count": 22,
   "metadata": {},
   "outputs": [],
   "source": [
    "from sklearn import preprocessing\n",
    "import pandas as pd\n",
    "import numpy as np\n",
    "\n",
    "def prepare_feature(dataframe):\n",
    "    selected_columns_df = dataframe[['Pclass', 'Sex', 'Age', 'SibSp', 'Parch', 'Fare']]\n",
    "\n",
    "    features_engineering_df = selected_columns_df.replace({'Sex': {'male': 1, 'female': 0}})\n",
    "    \n",
    "    avg_age = features_engineering_df['Age'].mean(skipna=True)\n",
    "    features_engineering_df['Age'].fillna(avg_age, inplace=True)\n",
    "    \n",
    "    avg_fare = features_engineering_df['Fare'].mean(skipna=True)\n",
    "    features_engineering_df['Fare'].fillna(avg_fare, inplace=True)\n",
    "\n",
    "    x = features_engineering_df.values\n",
    "    min_max_scaler = preprocessing.MinMaxScaler()\n",
    "    x_scaled = min_max_scaler.fit_transform(x)\n",
    "    \n",
    "    return x_scaled\n",
    "\n",
    "def prepare_label(dataframe):\n",
    "    label_df = dataframe[['Survived']]\n",
    "    y = label_df.values\n",
    "    \n",
    "    return y.ravel()\n",
    "    \n",
    "def prepare_train_data(file_name):\n",
    "    df = pd.read_csv(file_name)\n",
    "    \n",
    "    return prepare_feature(df), prepare_label(df)\n",
    "\n",
    "def prepare_test_data(file_name):\n",
    "    df = pd.read_csv(file_name)\n",
    "    \n",
    "    return df['PassengerId'], prepare_feature(df)"
   ]
  },
  {
   "cell_type": "code",
   "execution_count": 2,
   "metadata": {},
   "outputs": [
    {
     "data": {
      "text/plain": [
       "SGDClassifier(alpha=0.0001, average=False, class_weight=None, epsilon=0.1,\n",
       "       eta0=0.0, fit_intercept=True, l1_ratio=0.15,\n",
       "       learning_rate='optimal', loss='hinge', max_iter=5, n_iter=None,\n",
       "       n_jobs=1, penalty='l2', power_t=0.5, random_state=None,\n",
       "       shuffle=True, tol=None, verbose=0, warm_start=False)"
      ]
     },
     "execution_count": 2,
     "metadata": {},
     "output_type": "execute_result"
    }
   ],
   "source": [
    "from sklearn.linear_model import SGDClassifier\n",
    "\n",
    "x_train, y_train = prepare_train_data('train.csv')\n",
    "\n",
    "clf = SGDClassifier(loss='hinge', penalty='l2', max_iter=5)\n",
    "clf.fit(x_train, y_train)"
   ]
  },
  {
   "cell_type": "code",
   "execution_count": 23,
   "metadata": {},
   "outputs": [],
   "source": [
    "passengerID, x_test = prepare_test_data('test.csv')"
   ]
  },
  {
   "cell_type": "code",
   "execution_count": 26,
   "metadata": {},
   "outputs": [],
   "source": [
    "pred = clf.predict(x_test)"
   ]
  },
  {
   "cell_type": "code",
   "execution_count": 27,
   "metadata": {},
   "outputs": [],
   "source": [
    "submission_df = pd.DataFrame(passengerID)\n",
    "submission_df['Survived'] = pred"
   ]
  },
  {
   "cell_type": "code",
   "execution_count": 30,
   "metadata": {},
   "outputs": [],
   "source": [
    "submission_df.to_csv('submission.csv', index=False)"
   ]
  },
  {
   "cell_type": "code",
   "execution_count": null,
   "metadata": {},
   "outputs": [],
   "source": []
  }
 ],
 "metadata": {
  "kernelspec": {
   "display_name": "Python 3",
   "language": "python",
   "name": "python3"
  },
  "language_info": {
   "codemirror_mode": {
    "name": "ipython",
    "version": 3
   },
   "file_extension": ".py",
   "mimetype": "text/x-python",
   "name": "python",
   "nbconvert_exporter": "python",
   "pygments_lexer": "ipython3",
   "version": "3.6.6"
  }
 },
 "nbformat": 4,
 "nbformat_minor": 2
}
